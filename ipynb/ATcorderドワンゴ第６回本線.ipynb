{
 "cells": [
  {
   "cell_type": "markdown",
   "metadata": {},
   "source": [
    "###  A 2525敷き詰め"
   ]
  },
  {
   "cell_type": "code",
   "execution_count": 1,
   "metadata": {
    "ExecuteTime": {
     "end_time": "2020-02-08T08:00:37.437217Z",
     "start_time": "2020-02-08T08:00:36.003975Z"
    }
   },
   "outputs": [
    {
     "name": "stdout",
     "output_type": "stream",
     "text": [
      "1 3\n",
      "No\n"
     ]
    }
   ],
   "source": [
    "H, W = map(int, input().split())\n",
    "\n"
   ]
  },
  {
   "cell_type": "markdown",
   "metadata": {},
   "source": [
    "### B Harvest Festival"
   ]
  },
  {
   "cell_type": "code",
   "execution_count": 69,
   "metadata": {
    "ExecuteTime": {
     "end_time": "2020-02-08T08:54:40.308581Z",
     "start_time": "2020-02-08T08:54:24.421818Z"
    }
   },
   "outputs": [
    {
     "name": "stdout",
     "output_type": "stream",
     "text": [
      "5 4 3 2\n",
      "1 2 3\n",
      "0 1 2\n",
      "1 2 1\n",
      "2 3 5\n",
      "3 4 5\n"
     ]
    }
   ],
   "source": [
    "N, M, K ,D = map(int, input().split())\n",
    "a_list = list(map(int, input().split()))\n",
    "x_y_d = [list(map(int,input().split())) for i in range(M)]\n"
   ]
  },
  {
   "cell_type": "code",
   "execution_count": 68,
   "metadata": {
    "ExecuteTime": {
     "end_time": "2020-02-08T08:53:34.241470Z",
     "start_time": "2020-02-08T08:53:34.238878Z"
    }
   },
   "outputs": [],
   "source": [
    "# a_list\n",
    "# x_y_d[0][0]"
   ]
  },
  {
   "cell_type": "code",
   "execution_count": 71,
   "metadata": {
    "ExecuteTime": {
     "end_time": "2020-02-08T08:54:48.306049Z",
     "start_time": "2020-02-08T08:54:48.295749Z"
    }
   },
   "outputs": [
    {
     "name": "stdout",
     "output_type": "stream",
     "text": [
      "[8, 5, 2]\n",
      "15\n"
     ]
    }
   ],
   "source": [
    "cnt_per_sm_arr = []\n",
    "\n",
    "for i in range(K):\n",
    "    cnt_per_sm = 0\n",
    "    for \n",
    "    for j in range(len(x_y_d)):\n",
    "        if x_y_d[j][0] == a_list[i]: # 道の片方 = スーパーの街no　 # 本当は最短経路問題が必要\n",
    "            if x_y_d[j][2] <= D:\n",
    "                cnt_per_sm = cnt_per_sm + 3\n",
    "        elif x_y_d[j][1] == a_list[i]:\n",
    "            if x_y_d[j][2] <= D:\n",
    "                cnt_per_sm = cnt_per_sm +3\n",
    "#         else:\n",
    "#             cnt_per_sm = cnt_per_sm +1\n",
    "    cnt_per_sm_arr.append(cnt_per_sm)\n",
    "\n",
    "print(cnt_per_sm_arr)\n",
    "tmp =0\n",
    "for k in range(len(cnt_per_sm_arr)):\n",
    "    tmp = (tmp % 998244353) ^ cnt_per_sm_arr[k]\n",
    "\n",
    "print(tmp )\n",
    "    \n",
    "    "
   ]
  },
  {
   "cell_type": "markdown",
   "metadata": {},
   "source": [
    "### C"
   ]
  },
  {
   "cell_type": "code",
   "execution_count": null,
   "metadata": {
    "ExecuteTime": {
     "end_time": "2020-01-22T19:03:25.809327Z",
     "start_time": "2020-01-22T19:03:23.887309Z"
    }
   },
   "outputs": [],
   "source": [
    "input_N = int(input())\n",
    "p_list = list(map(int, input().split()))\n",
    "\n"
   ]
  },
  {
   "cell_type": "code",
   "execution_count": null,
   "metadata": {
    "ExecuteTime": {
     "end_time": "2020-01-22T19:03:45.364804Z",
     "start_time": "2020-01-22T19:03:45.360104Z"
    }
   },
   "outputs": [],
   "source": []
  },
  {
   "cell_type": "markdown",
   "metadata": {},
   "source": [
    "### D"
   ]
  },
  {
   "cell_type": "code",
   "execution_count": null,
   "metadata": {
    "ExecuteTime": {
     "end_time": "2020-01-22T20:01:42.112186Z",
     "start_time": "2020-01-22T20:01:35.806571Z"
    }
   },
   "outputs": [],
   "source": [
    "import numpy as np\n",
    "import sys\n",
    "\n",
    "# input_N = sys.stdin.readline\n",
    "# input_N=sys.stdin.readline().strip()\n",
    "input_N = int(input())\n",
    "cnt=0\n",
    "\n",
    "\n"
   ]
  },
  {
   "cell_type": "code",
   "execution_count": null,
   "metadata": {},
   "outputs": [],
   "source": []
  }
 ],
 "metadata": {
  "kernelspec": {
   "display_name": "Python 3",
   "language": "python",
   "name": "python3"
  },
  "language_info": {
   "codemirror_mode": {
    "name": "ipython",
    "version": 3
   },
   "file_extension": ".py",
   "mimetype": "text/x-python",
   "name": "python",
   "nbconvert_exporter": "python",
   "pygments_lexer": "ipython3",
   "version": "3.7.3"
  }
 },
 "nbformat": 4,
 "nbformat_minor": 2
}

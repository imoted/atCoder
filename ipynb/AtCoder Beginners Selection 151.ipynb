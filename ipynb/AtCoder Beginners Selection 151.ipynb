{
 "cells": [
  {
   "cell_type": "markdown",
   "metadata": {},
   "source": [
    "### A"
   ]
  },
  {
   "cell_type": "code",
   "execution_count": 4,
   "metadata": {},
   "outputs": [
    {
     "name": "stdout",
     "output_type": "stream",
     "text": [
      "a\n",
      "b\n"
     ]
    }
   ],
   "source": [
    "a = input()\n",
    "ascii_a = ord(a)\n",
    "# print(ascii_a)\n",
    "next_ascii_a = ascii_a +1\n",
    "print(chr(next_ascii_a))\n"
   ]
  },
  {
   "cell_type": "markdown",
   "metadata": {},
   "source": [
    "### B"
   ]
  },
  {
   "cell_type": "code",
   "execution_count": 1,
   "metadata": {},
   "outputs": [
    {
     "name": "stdout",
     "output_type": "stream",
     "text": [
      "1 2 3\n",
      "a\n"
     ]
    },
    {
     "ename": "ValueError",
     "evalue": "invalid literal for int() with base 10: 'a'",
     "output_type": "error",
     "traceback": [
      "\u001b[0;31m-------------------------------------------------------------------\u001b[0m",
      "\u001b[0;31mValueError\u001b[0m                        Traceback (most recent call last)",
      "\u001b[0;32m<ipython-input-1-8d31cd3604d5>\u001b[0m in \u001b[0;36m<module>\u001b[0;34m\u001b[0m\n\u001b[1;32m      2\u001b[0m \u001b[0;34m\u001b[0m\u001b[0m\n\u001b[1;32m      3\u001b[0m \u001b[0mN\u001b[0m \u001b[0;34m,\u001b[0m \u001b[0mK\u001b[0m\u001b[0;34m,\u001b[0m \u001b[0mM\u001b[0m \u001b[0;34m=\u001b[0m \u001b[0mmap\u001b[0m\u001b[0;34m(\u001b[0m\u001b[0mint\u001b[0m\u001b[0;34m,\u001b[0m \u001b[0minput\u001b[0m\u001b[0;34m(\u001b[0m\u001b[0;34m)\u001b[0m\u001b[0;34m.\u001b[0m\u001b[0msplit\u001b[0m\u001b[0;34m(\u001b[0m\u001b[0;34m)\u001b[0m\u001b[0;34m)\u001b[0m\u001b[0;34m\u001b[0m\u001b[0;34m\u001b[0m\u001b[0m\n\u001b[0;32m----> 4\u001b[0;31m \u001b[0ma_list\u001b[0m \u001b[0;34m=\u001b[0m \u001b[0mlist\u001b[0m\u001b[0;34m(\u001b[0m\u001b[0mmap\u001b[0m\u001b[0;34m(\u001b[0m\u001b[0mint\u001b[0m\u001b[0;34m,\u001b[0m \u001b[0minput\u001b[0m\u001b[0;34m(\u001b[0m\u001b[0;34m)\u001b[0m\u001b[0;34m.\u001b[0m\u001b[0msplit\u001b[0m\u001b[0;34m(\u001b[0m\u001b[0;34m)\u001b[0m\u001b[0;34m)\u001b[0m\u001b[0;34m)\u001b[0m\u001b[0;34m\u001b[0m\u001b[0;34m\u001b[0m\u001b[0m\n\u001b[0m\u001b[1;32m      5\u001b[0m \u001b[0;34m\u001b[0m\u001b[0m\n\u001b[1;32m      6\u001b[0m \u001b[0;31m# print( M * N - sum(a_list) )\u001b[0m\u001b[0;34m\u001b[0m\u001b[0;34m\u001b[0m\u001b[0;34m\u001b[0m\u001b[0m\n",
      "\u001b[0;31mValueError\u001b[0m: invalid literal for int() with base 10: 'a'"
     ]
    }
   ],
   "source": [
    "import math\n",
    "\n",
    "N , K, M = map(int, input().split())\n",
    "a_list = list(map(int, input().split()))\n",
    "\n",
    "# print( M * N - sum(a_list) )\n",
    "\n",
    "target = math.ceil(M * N - sum(a_list))\n",
    "if target > K:\n",
    "    print(-1)\n",
    "elif target <0:\n",
    "    print(0)\n",
    "else:\n",
    "    print(target)\n"
   ]
  },
  {
   "cell_type": "markdown",
   "metadata": {},
   "source": [
    "## C"
   ]
  },
  {
   "cell_type": "code",
   "execution_count": 2,
   "metadata": {
    "scrolled": true
   },
   "outputs": [
    {
     "name": "stdout",
     "output_type": "stream",
     "text": [
      "2 5\n",
      "1 WA\n",
      "1 AC\n",
      "2 WA\n",
      "2 AC\n",
      "2 WA\n"
     ]
    }
   ],
   "source": [
    "N,M = map(int, input().split())\n",
    "p = [input().split() for i in range(int(M))]\n"
   ]
  },
  {
   "cell_type": "code",
   "execution_count": 87,
   "metadata": {},
   "outputs": [
    {
     "name": "stdout",
     "output_type": "stream",
     "text": [
      "[[False False]\n",
      " [False False]\n",
      " [ True False]\n",
      " [ True False]\n",
      " [ True False]]\n",
      "[[False]\n",
      " [False]\n",
      " [ True]\n",
      " [ True]\n",
      " [ True]]\n",
      "[[ True]\n",
      " [ True]\n",
      " [False]\n",
      " [False]\n",
      " [False]]\n",
      "['1' '1']\n"
     ]
    }
   ],
   "source": [
    "import numpy as np\n",
    "\n",
    "p = np.array(p)\n",
    "\n",
    "cnt_penalty =0\n",
    "cnt_answer =0\n",
    "\n",
    "print(p == \"2\")\n",
    "print(np.any(p == \"2\", axis=1).reshape(M ,1))\n",
    "print(np.any(p == \"1\", axis=1).reshape(M ,1))\n",
    "# print(p(np.any(p == \"2\", axis=1).reshape(M ,1))\n",
    "# print(np.any(p == \"1\", axis=1).reshape(M ,1))\n",
    "\n",
    "# print(np.where(p == \"1\"))\n",
    "array_where = p[np.where(p == \"1\")]\n",
    "print(array_where)\n",
    "\n",
    "# print(p[p == \"2\"][1])\n",
    "\n",
    "# print(type(p[0][1]))\n",
    "\n",
    "# for j in range(0,N-1):\n",
    "#     for i in range(0,M-1):\n",
    "#         if p[i][1] ==\"AC\":\n",
    "#             cnt_answer = cnt_answer +1\n",
    "#             break\n",
    "# #                 print(\"cnt_answer\")\n",
    "#         elif p[i][1] ==\"WA\":\n",
    "#             cnt_penalty = cnt_penalty +1\n",
    "# #                 print(\"cnt_penalty\")\n",
    "\n",
    "# #     else:\n",
    "# #         continue\n",
    "# #     continue\n",
    "\n",
    "# print(cnt_answer)\n",
    "# print(cnt_penalty)"
   ]
  },
  {
   "cell_type": "code",
   "execution_count": 4,
   "metadata": {},
   "outputs": [
    {
     "name": "stdout",
     "output_type": "stream",
     "text": [
      "2\n",
      "2\n"
     ]
    }
   ],
   "source": [
    "## これは、計算コスト問題かな？ 実行時間オーバー\n",
    "\n",
    "cnt_penalty =0\n",
    "cnt_answer =0\n",
    "\n",
    "# print(p)\n",
    "for j in range(N):\n",
    "    for i in range(M):\n",
    "        if int(p[i][0]) == j +1:\n",
    "            if p[i][1] ==\"AC\":\n",
    "                cnt_answer = cnt_answer +1\n",
    "#                 print(\"cnt_answer\")\n",
    "                break\n",
    "            elif p[i][1] ==\"WA\":\n",
    "                cnt_penalty = cnt_penalty +1\n",
    "#                 print(\"cnt_penalty\")\n",
    "#     else:\n",
    "#         continue\n",
    "#     continue\n",
    "                \n",
    "print(cnt_answer)\n",
    "print(cnt_penalty)"
   ]
  },
  {
   "cell_type": "code",
   "execution_count": 68,
   "metadata": {},
   "outputs": [
    {
     "name": "stdout",
     "output_type": "stream",
     "text": [
      "2\n",
      "2\n"
     ]
    }
   ],
   "source": [
    "## これは、3問目の後に2問目が来るなど、問題順が逆だと対応できない。\n",
    "\n",
    "cnt_penalty =0\n",
    "cnt_answer =0\n",
    "\n",
    "j =0\n",
    "# print(p)\n",
    "for i in range(M):\n",
    "     if int(p[i][0]) == j +1:\n",
    "        if p[i][1] ==\"AC\":\n",
    "            cnt_answer = cnt_answer +1\n",
    "#             print(\"cnt_answer\")\n",
    "            j = j +1\n",
    "        elif p[i][1] ==\"WA\":\n",
    "            cnt_penalty = cnt_penalty +1\n",
    "#             print(\"cnt_penalty\")\n",
    "\n",
    "print(cnt_answer)\n",
    "print(cnt_penalty)"
   ]
  },
  {
   "cell_type": "code",
   "execution_count": 8,
   "metadata": {},
   "outputs": [
    {
     "name": "stdout",
     "output_type": "stream",
     "text": [
      "50 180 20\n",
      "15.4320987654321\n",
      "64.8\n",
      "-14\n"
     ]
    }
   ],
   "source": [
    "import sys\n",
    "\n",
    "def main(weight, height , target_bmi):\n",
    "    BMI = 10000 * weight / height / height \n",
    "    target_weight = target_bmi * height * height / 10000 \n",
    "    target_decrease_weight = weight - int(target_weight)\n",
    "    if target_decrease_weight >= 0:\n",
    "        print(weight - int(target_weight))\n",
    "    else:\n",
    "        print(0)\n",
    "    \n",
    "if __name__ == '__main__':\n",
    "    lines = []\n",
    "    # for l in sys.stdin:\n",
    "    #     lines.append(l.rstrip('\\r\\n'))\n",
    "    # main(lines)\n",
    "    weight, height, target_bmi = map(int, input().split())\n",
    "    main(weight, height, target_bmi)"
   ]
  }
 ],
 "metadata": {
  "kernelspec": {
   "display_name": "Python 3",
   "language": "python",
   "name": "python3"
  },
  "language_info": {
   "codemirror_mode": {
    "name": "ipython",
    "version": 3
   },
   "file_extension": ".py",
   "mimetype": "text/x-python",
   "name": "python",
   "nbconvert_exporter": "python",
   "pygments_lexer": "ipython3",
   "version": "3.7.3"
  }
 },
 "nbformat": 4,
 "nbformat_minor": 2
}

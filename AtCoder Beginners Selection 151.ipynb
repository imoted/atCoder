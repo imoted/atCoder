{
 "cells": [
  {
   "cell_type": "markdown",
   "metadata": {},
   "source": [
    "### A"
   ]
  },
  {
   "cell_type": "code",
   "execution_count": 4,
   "metadata": {},
   "outputs": [
    {
     "name": "stdout",
     "output_type": "stream",
     "text": [
      "a\n",
      "b\n"
     ]
    }
   ],
   "source": [
    "a = input()\n",
    "ascii_a = ord(a)\n",
    "# print(ascii_a)\n",
    "next_ascii_a = ascii_a +1\n",
    "print(chr(next_ascii_a))\n"
   ]
  },
  {
   "cell_type": "markdown",
   "metadata": {},
   "source": [
    "### B"
   ]
  },
  {
   "cell_type": "code",
   "execution_count": 18,
   "metadata": {},
   "outputs": [
    {
     "name": "stdout",
     "output_type": "stream",
     "text": [
      "4 100 60\n",
      "0 0 0\n",
      "-1\n"
     ]
    }
   ],
   "source": [
    "import math\n",
    "\n",
    "N , K, M = map(int, input().split())\n",
    "a_list = list(map(int, input().split()))\n",
    "\n",
    "# print( M * N - sum(a_list) )\n",
    "\n",
    "target = math.ceil(M * N - sum(a_list))\n",
    "if target > K:\n",
    "    print(-1)\n",
    "elif target <0:\n",
    "    print(0)\n",
    "else:\n",
    "    print(target)\n"
   ]
  },
  {
   "cell_type": "code",
   "execution_count": 34,
   "metadata": {
    "scrolled": true
   },
   "outputs": [
    {
     "name": "stdout",
     "output_type": "stream",
     "text": [
      "2 5\n",
      "1 WA\n",
      "1 AC\n",
      "2 WA\n",
      "2 AC\n",
      "2 WA\n"
     ]
    }
   ],
   "source": [
    "N,M = map(int, input().split())\n",
    "p = [input().split() for i in range(int(M))]\n"
   ]
  },
  {
   "cell_type": "code",
   "execution_count": 35,
   "metadata": {},
   "outputs": [
    {
     "name": "stdout",
     "output_type": "stream",
     "text": [
      "cnt_penalty\n",
      "cnt_answer\n",
      "cnt_penalty\n",
      "cnt_answer\n",
      "cnt_penalty\n",
      "2\n",
      "3\n"
     ]
    }
   ],
   "source": [
    "cnt_penalty =0\n",
    "cnt_answer =0\n",
    "\n",
    "# print(p)\n",
    "for i in range(M):\n",
    "    for j in range(N):\n",
    "        if int(p[i][0]) == j +1:\n",
    "            if p[i][1] ==\"AC\":\n",
    "                cnt_answer = cnt_answer +1\n",
    "                print(\"cnt_answer\")\n",
    "#                 break\n",
    "                j = j +1\n",
    "            elif p[i][1] ==\"WA\":\n",
    "                cnt_penalty = cnt_penalty +1\n",
    "                print(\"cnt_penalty\")\n",
    "#     else:\n",
    "#         continue\n",
    "#     continue\n",
    "                \n",
    "print(cnt_answer)\n",
    "print(cnt_penalty)"
   ]
  },
  {
   "cell_type": "code",
   "execution_count": 37,
   "metadata": {},
   "outputs": [
    {
     "name": "stdout",
     "output_type": "stream",
     "text": [
      "2\n",
      "2\n"
     ]
    }
   ],
   "source": [
    "cnt_penalty =0\n",
    "cnt_answer =0\n",
    "\n",
    "j =0\n",
    "# print(p)\n",
    "for i in range(M):\n",
    "     if int(p[i][0]) == j +1:\n",
    "        if p[i][1] ==\"AC\":\n",
    "            cnt_answer = cnt_answer +1\n",
    "#             print(\"cnt_answer\")\n",
    "            j = j +1\n",
    "        elif p[i][1] ==\"WA\":\n",
    "            cnt_penalty = cnt_penalty +1\n",
    "#             print(\"cnt_penalty\")\n",
    "\n",
    "print(cnt_answer)\n",
    "print(cnt_penalty)"
   ]
  }
 ],
 "metadata": {
  "kernelspec": {
   "display_name": "Python 3",
   "language": "python",
   "name": "python3"
  },
  "language_info": {
   "codemirror_mode": {
    "name": "ipython",
    "version": 3
   },
   "file_extension": ".py",
   "mimetype": "text/x-python",
   "name": "python",
   "nbconvert_exporter": "python",
   "pygments_lexer": "ipython3",
   "version": "3.5.2"
  }
 },
 "nbformat": 4,
 "nbformat_minor": 2
}

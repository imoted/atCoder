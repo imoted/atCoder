{
 "cells": [
  {
   "cell_type": "code",
   "execution_count": 4,
   "metadata": {},
   "outputs": [
    {
     "name": "stdout",
     "output_type": "stream",
     "text": [
      "a\n",
      "b\n"
     ]
    }
   ],
   "source": [
    "a = input()\n",
    "ascii_a = ord(a)\n",
    "# print(ascii_a)\n",
    "next_ascii_a = ascii_a +1\n",
    "print(chr(next_ascii_a))\n"
   ]
  },
  {
   "cell_type": "code",
   "execution_count": 17,
   "metadata": {},
   "outputs": [
    {
     "name": "stdout",
     "output_type": "stream",
     "text": [
      "5 10 7\n",
      "8 10 3 6\n",
      "8\n"
     ]
    }
   ],
   "source": [
    "from statistics import mean\n",
    "import math\n",
    "\n",
    "\n",
    "N , K, M = map(int, input().split())\n",
    "a_list = list(map(int, input().split()))\n",
    "\n",
    "# print( M * N - sum(a_list) )\n",
    "\n",
    "target = math.ceil(M * N - sum(a_list))\n",
    "if target > K:\n",
    "    print(-1)\n",
    "elif target <0:\n",
    "    print(0)\n",
    "else:\n",
    "    print(target)\n"
   ]
  }
 ],
 "metadata": {
  "kernelspec": {
   "display_name": "Python 3",
   "language": "python",
   "name": "python3"
  },
  "language_info": {
   "codemirror_mode": {
    "name": "ipython",
    "version": 3
   },
   "file_extension": ".py",
   "mimetype": "text/x-python",
   "name": "python",
   "nbconvert_exporter": "python",
   "pygments_lexer": "ipython3",
   "version": "3.5.2"
  }
 },
 "nbformat": 4,
 "nbformat_minor": 2
}

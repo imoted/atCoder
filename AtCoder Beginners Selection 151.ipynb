{
 "cells": [
  {
   "cell_type": "code",
   "execution_count": 4,
   "metadata": {},
   "outputs": [
    {
     "name": "stdout",
     "output_type": "stream",
     "text": [
      "a\n",
      "b\n"
     ]
    }
   ],
   "source": [
    "a = input()\n",
    "ascii_a = ord(a)\n",
    "# print(ascii_a)\n",
    "next_ascii_a = ascii_a +1\n",
    "print(chr(next_ascii_a))\n"
   ]
  }
 ],
 "metadata": {},
 "nbformat": 4,
 "nbformat_minor": 2
}

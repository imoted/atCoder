{
 "cells": [
  {
   "cell_type": "markdown",
   "metadata": {},
   "source": [
    "### A - 500 Yen Coins"
   ]
  },
  {
   "cell_type": "code",
   "execution_count": 6,
   "metadata": {},
   "outputs": [
    {
     "name": "stdout",
     "output_type": "stream",
     "text": [
      "1 2\n",
      "Yes\n"
     ]
    }
   ],
   "source": [
    "k,x = map(int, input().split())\n",
    "\n",
    "print(\"Yes\" if k * 500 >=  x else \"No\")"
   ]
  },
  {
   "cell_type": "markdown",
   "metadata": {},
   "source": [
    "### B - Count ABC"
   ]
  },
  {
   "cell_type": "code",
   "execution_count": 33,
   "metadata": {},
   "outputs": [
    {
     "name": "stdout",
     "output_type": "stream",
     "text": [
      "33\n",
      "ABCCABCBABCCABACBCBBABCBCBCBCABCB\n",
      "5\n"
     ]
    }
   ],
   "source": [
    "n = int(input())\n",
    "s = str(input())\n",
    "cnt = 0\n",
    "# s.count(\"ABC\")  # これでは、nが使われてないのでダメらしい。\n",
    "for i in range(n):\n",
    "  if s[i:i+3].find(\"ABC\") ==0:\n",
    "    cnt = cnt+1\n",
    "print(cnt)  "
   ]
  },
  {
   "cell_type": "markdown",
   "metadata": {},
   "source": [
    "### C - Count Order"
   ]
  },
  {
   "cell_type": "code",
   "execution_count": 78,
   "metadata": {},
   "outputs": [
    {
     "name": "stdout",
     "output_type": "stream",
     "text": [
      "4 3 2 1\n"
     ]
    }
   ],
   "source": [
    "import numpy as np\n",
    "import math\n",
    "\n",
    "# print(math.factorial(5))\n",
    "\n",
    "# input_N = int(input())#暫定OFF\n",
    "p_list = np.array(list(map(int, input().split())))\n",
    "# q_list = np.array(list(map(int, input().split())))#暫定OFF\n",
    "\n",
    "# np.arange(1,input_N+1)\n",
    "\n",
    "ord_sorted_list = np.where(np.sort(p_list) == p_list[0])\n",
    "# print(type(ord_sorted_list[0]))\n",
    "for i in range(len(p_list)):\n",
    "    math.factorial(i)\n",
    "# int(ord_sorted_list[0])\n"
   ]
  },
  {
   "cell_type": "code",
   "execution_count": 81,
   "metadata": {},
   "outputs": [
    {
     "name": "stdout",
     "output_type": "stream",
     "text": [
      "4 3 2 1\n",
      "[4 3 2 1]\n",
      "[1 2 3 4]\n",
      "(array([3]),)\n",
      "(array([2]),)\n",
      "(array([1]),)\n",
      "(array([0]),)\n"
     ]
    }
   ],
   "source": [
    "p_list = np.array(list(map(int, input().split())))\n",
    "\n",
    "print(p_list)\n",
    "input_N = 4\n",
    "\n",
    "sorted_list = np.arange(1,input_N+1)\n",
    "print(sorted_list)\n",
    "\n",
    "# for i in range(1,len(p_list) +1):\n",
    "#     print(np.where(p_list == i))\n",
    "\n",
    "print(np.where(p_list == sorted_list[]))"
   ]
  },
  {
   "cell_type": "code",
   "execution_count": null,
   "metadata": {},
   "outputs": [],
   "source": []
  }
 ],
 "metadata": {
  "kernelspec": {
   "display_name": "Python 3",
   "language": "python",
   "name": "python3"
  },
  "language_info": {
   "codemirror_mode": {
    "name": "ipython",
    "version": 3
   },
   "file_extension": ".py",
   "mimetype": "text/x-python",
   "name": "python",
   "nbconvert_exporter": "python",
   "pygments_lexer": "ipython3",
   "version": "3.7.3"
  }
 },
 "nbformat": 4,
 "nbformat_minor": 2
}

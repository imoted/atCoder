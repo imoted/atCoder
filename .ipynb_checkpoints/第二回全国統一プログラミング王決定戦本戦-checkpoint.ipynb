{
 "cells": [
  {
   "cell_type": "code",
   "execution_count": 8,
   "metadata": {},
   "outputs": [
    {
     "name": "stdout",
     "output_type": "stream",
     "text": [
      "3\n",
      "3 1 2\n",
      "[1, 2, 3]\n"
     ]
    }
   ],
   "source": [
    "N = int(input())\n",
    "a_list = list(map(int, input().split()))\n",
    "\n",
    "# print(type(a_list))\n",
    "a_list.sort()\n",
    "\n",
    "print(a_list)\n",
    "\n",
    "for i in range(len(a_list) -2):\n",
    "    if a_list[i]< a_list[i+1]:\n",
    "        if a_list[i]> a_list[i+1]:"
   ]
  }
 ],
 "metadata": {
  "kernelspec": {
   "display_name": "Python 3",
   "language": "python",
   "name": "python3"
  },
  "language_info": {
   "codemirror_mode": {
    "name": "ipython",
    "version": 3
   },
   "file_extension": ".py",
   "mimetype": "text/x-python",
   "name": "python",
   "nbconvert_exporter": "python",
   "pygments_lexer": "ipython3",
   "version": "3.7.3"
  }
 },
 "nbformat": 4,
 "nbformat_minor": 2
}

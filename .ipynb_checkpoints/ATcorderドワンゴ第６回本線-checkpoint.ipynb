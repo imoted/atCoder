{
 "cells": [
  {
   "cell_type": "markdown",
   "metadata": {},
   "source": [
    "###  A"
   ]
  },
  {
   "cell_type": "code",
   "execution_count": null,
   "metadata": {
    "ExecuteTime": {
     "end_time": "2020-01-22T18:24:28.126173Z",
     "start_time": "2020-01-22T18:24:27.046309Z"
    }
   },
   "outputs": [],
   "source": [
    "N, M = map(int, input().split())\n",
    "print(\"Yes\" if N ==M else \"No\")"
   ]
  },
  {
   "cell_type": "markdown",
   "metadata": {},
   "source": [
    "### B"
   ]
  },
  {
   "cell_type": "code",
   "execution_count": null,
   "metadata": {
    "ExecuteTime": {
     "end_time": "2020-01-22T18:37:50.008808Z",
     "start_time": "2020-01-22T18:37:48.857654Z"
    }
   },
   "outputs": [],
   "source": [
    "a, b = map(str, input().split())\n",
    "a_list =[]\n",
    "b_list =[]\n",
    "\n",
    "\n"
   ]
  },
  {
   "cell_type": "markdown",
   "metadata": {},
   "source": [
    "### C"
   ]
  },
  {
   "cell_type": "code",
   "execution_count": null,
   "metadata": {
    "ExecuteTime": {
     "end_time": "2020-01-22T19:03:25.809327Z",
     "start_time": "2020-01-22T19:03:23.887309Z"
    }
   },
   "outputs": [],
   "source": [
    "input_N = int(input())\n",
    "p_list = list(map(int, input().split()))\n",
    "\n"
   ]
  },
  {
   "cell_type": "code",
   "execution_count": null,
   "metadata": {
    "ExecuteTime": {
     "end_time": "2020-01-22T19:03:45.364804Z",
     "start_time": "2020-01-22T19:03:45.360104Z"
    }
   },
   "outputs": [],
   "source": []
  },
  {
   "cell_type": "markdown",
   "metadata": {},
   "source": [
    "### D"
   ]
  },
  {
   "cell_type": "code",
   "execution_count": null,
   "metadata": {
    "ExecuteTime": {
     "end_time": "2020-01-22T20:01:42.112186Z",
     "start_time": "2020-01-22T20:01:35.806571Z"
    }
   },
   "outputs": [],
   "source": [
    "import numpy as np\n",
    "import sys\n",
    "\n",
    "# input_N = sys.stdin.readline\n",
    "# input_N=sys.stdin.readline().strip()\n",
    "input_N = int(input())\n",
    "cnt=0\n",
    "\n",
    "\n"
   ]
  },
  {
   "cell_type": "code",
   "execution_count": null,
   "metadata": {},
   "outputs": [],
   "source": []
  }
 ],
 "metadata": {
  "kernelspec": {
   "display_name": "Python 3",
   "language": "python",
   "name": "python3"
  },
  "language_info": {
   "codemirror_mode": {
    "name": "ipython",
    "version": 3
   },
   "file_extension": ".py",
   "mimetype": "text/x-python",
   "name": "python",
   "nbconvert_exporter": "python",
   "pygments_lexer": "ipython3",
   "version": "3.7.3"
  }
 },
 "nbformat": 4,
 "nbformat_minor": 2
}

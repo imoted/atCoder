{
 "cells": [
  {
   "cell_type": "code",
   "execution_count": 28,
   "metadata": {
    "ExecuteTime": {
     "end_time": "2020-01-22T13:06:37.682238Z",
     "start_time": "2020-01-22T13:06:37.679759Z"
    }
   },
   "outputs": [],
   "source": [
    "import numpy as np\n",
    "import sys\n"
   ]
  },
  {
   "cell_type": "code",
   "execution_count": 49,
   "metadata": {
    "ExecuteTime": {
     "end_time": "2020-01-22T13:22:18.961850Z",
     "start_time": "2020-01-22T13:21:59.191686Z"
    }
   },
   "outputs": [
    {
     "name": "stdout",
     "output_type": "stream",
     "text": [
      "4 4\n",
      "3343\n",
      "3114\n",
      "3189\n",
      "3523\n",
      "[[3 3 4 3]\n",
      " [3 1 1 4]\n",
      " [3 1 8 9]\n",
      " [3 5 2 3]]\n"
     ]
    }
   ],
   "source": [
    "max_n,max_m = map(int, input().split())\n",
    "string_list_arr = [[int(l) for l in input().strip()] for i in range(max_n)]  \n",
    "np_string_list = np.array(string_list_arr)\n",
    "\n",
    "print(np_string_list)\n",
    "# print(type(np_string_list))"
   ]
  },
  {
   "cell_type": "code",
   "execution_count": 50,
   "metadata": {
    "ExecuteTime": {
     "end_time": "2020-01-22T13:25:08.176369Z",
     "start_time": "2020-01-22T13:25:08.172496Z"
    }
   },
   "outputs": [
    {
     "name": "stdout",
     "output_type": "stream",
     "text": [
      "[3 3 4 3]\n"
     ]
    }
   ],
   "source": [
    "print(np_string_list[0])"
   ]
  },
  {
   "cell_type": "code",
   "execution_count": 90,
   "metadata": {
    "ExecuteTime": {
     "end_time": "2020-01-22T14:18:55.950737Z",
     "start_time": "2020-01-22T14:18:55.939249Z"
    }
   },
   "outputs": [],
   "source": [
    "def search_vertical(n,m):\n",
    "    flag_found_bottom = 0\n",
    "    volume_tmp =0\n",
    "    wall_height =0\n",
    "    another_wall_height =0\n",
    "    cnt =0\n",
    "    for i in range(max_n - n -1):\n",
    "\n",
    "        diff = np_string_list[n + i][m] - np_string_list[n + i +1][m]\n",
    "        if diff >0 and flag_found_bottom ==0:\n",
    "#         if diff >0:\n",
    "            wall_height += diff\n",
    "            volume_tmp += wall_height\n",
    "            flag_found_bottom =1\n",
    "            cnt += 1\n",
    "        elif diff >0 and flag_found_bottom ==1:\n",
    "            wall_height += diff\n",
    "            volume_tmp += wall_height\n",
    "            another_wall_height -= diff\n",
    "            cnt += 1\n",
    "        elif diff == 0 and flag_found_bottom ==1:\n",
    "#             wall_height += 0\n",
    "            volume_tmp += wall_height\n",
    "            cnt += 1\n",
    "        elif diff < 0 and flag_found_bottom ==1:\n",
    "            wall_height += diff\n",
    "            another_wall_height -= diff\n",
    "            cnt += 1\n",
    "            wall_diff = another_wall_height - wall_height\n",
    "            if wall_diff >=0:\n",
    "#                 print(\"test1\")\n",
    "                return volume_tmp\n",
    "            else:\n",
    "#                 print(\"test2\")\n",
    "                volume_tmp -= cnt * wall_diff\n",
    "                return volume_tmp \n",
    "            volume_tmp += wall_height \n",
    "            cnt += 1\n",
    "#         print(\"diff\",diff)\n",
    "#         print(\"wall_height\",wall_height)\n",
    "#         print(\"another_wall_height\",another_wall_height)\n",
    "#         print(\"volume_tmp\",volume_tmp)\n",
    "#         print(\" \")\n",
    "    "
   ]
  },
  {
   "cell_type": "code",
   "execution_count": 89,
   "metadata": {
    "ExecuteTime": {
     "end_time": "2020-01-22T14:18:54.169499Z",
     "start_time": "2020-01-22T14:18:54.154293Z"
    }
   },
   "outputs": [],
   "source": [
    "def search_horizo(n,m):\n",
    "    flag_found_bottom = 0\n",
    "    volume_tmp =0\n",
    "    wall_height =0\n",
    "    another_wall_height =0\n",
    "    cnt =0\n",
    "    for i in range(max_m - m -1):\n",
    "\n",
    "        diff = np_string_list[n ][m+ i] - np_string_list[n ][m+ i +1]\n",
    "        if diff >0 and flag_found_bottom ==0:\n",
    "#         if diff >0:\n",
    "            wall_height += diff\n",
    "            volume_tmp += wall_height\n",
    "            flag_found_bottom =1\n",
    "            cnt += 1\n",
    "        elif diff >0 and flag_found_bottom ==1:\n",
    "            wall_height += diff\n",
    "            volume_tmp += wall_height\n",
    "            another_wall_height -= diff\n",
    "            cnt += 1\n",
    "        elif diff == 0 and flag_found_bottom ==1:\n",
    "#             wall_height += 0\n",
    "            volume_tmp += wall_height\n",
    "            cnt += 1\n",
    "        elif diff < 0 and flag_found_bottom ==1:\n",
    "            wall_height += diff\n",
    "            another_wall_height -= diff\n",
    "            cnt += 1\n",
    "            wall_diff = another_wall_height - wall_height\n",
    "            if wall_diff >=0:\n",
    "#                 print(\"test1\")\n",
    "                return volume_tmp\n",
    "            else:\n",
    "#                 print(\"test2\")\n",
    "                volume_tmp -= cnt * wall_diff\n",
    "                return volume_tmp \n",
    "            volume_tmp += wall_height \n",
    "            cnt += 1\n",
    "#         print(\"diff\",diff)\n",
    "#         print(\"wall_height\",wall_height)\n",
    "#         print(\"another_wall_height\",another_wall_height)\n",
    "#         print(\"volume_tmp\",volume_tmp)\n",
    "#         print(\" \")\n",
    "    "
   ]
  },
  {
   "cell_type": "code",
   "execution_count": 91,
   "metadata": {
    "ExecuteTime": {
     "end_time": "2020-01-22T14:18:58.355660Z",
     "start_time": "2020-01-22T14:18:58.351474Z"
    }
   },
   "outputs": [
    {
     "name": "stdout",
     "output_type": "stream",
     "text": [
      "result 3\n"
     ]
    }
   ],
   "source": [
    "result = search_vertical(0,2)  # 行 / 列\n",
    "print(\"result\",result)"
   ]
  },
  {
   "cell_type": "code",
   "execution_count": 93,
   "metadata": {
    "ExecuteTime": {
     "end_time": "2020-01-22T14:19:10.571662Z",
     "start_time": "2020-01-22T14:19:10.568254Z"
    }
   },
   "outputs": [
    {
     "name": "stdout",
     "output_type": "stream",
     "text": [
      "result 4\n"
     ]
    }
   ],
   "source": [
    "result = search_horizo(1,0)  # 行 / 列\n",
    "print(\"result\",result)"
   ]
  },
  {
   "cell_type": "code",
   "execution_count": null,
   "metadata": {},
   "outputs": [],
   "source": []
  }
 ],
 "metadata": {
  "kernelspec": {
   "display_name": "Python 3",
   "language": "python",
   "name": "python3"
  },
  "language_info": {
   "codemirror_mode": {
    "name": "ipython",
    "version": 3
   },
   "file_extension": ".py",
   "mimetype": "text/x-python",
   "name": "python",
   "nbconvert_exporter": "python",
   "pygments_lexer": "ipython3",
   "version": "3.7.3"
  },
  "varInspector": {
   "cols": {
    "lenName": 16,
    "lenType": 16,
    "lenVar": 40
   },
   "kernels_config": {
    "python": {
     "delete_cmd_postfix": "",
     "delete_cmd_prefix": "del ",
     "library": "var_list.py",
     "varRefreshCmd": "print(var_dic_list())"
    },
    "r": {
     "delete_cmd_postfix": ") ",
     "delete_cmd_prefix": "rm(",
     "library": "var_list.r",
     "varRefreshCmd": "cat(var_dic_list()) "
    }
   },
   "types_to_exclude": [
    "module",
    "function",
    "builtin_function_or_method",
    "instance",
    "_Feature"
   ],
   "window_display": false
  }
 },
 "nbformat": 4,
 "nbformat_minor": 2
}

{
 "cells": [
  {
   "cell_type": "code",
   "execution_count": 10,
   "metadata": {},
   "outputs": [
    {
     "name": "stdout",
     "output_type": "stream",
     "text": [
      "2\n",
      "100\n",
      "200\n",
      "2\n"
     ]
    }
   ],
   "source": [
    "import math\n",
    "\n",
    "H = int(input())\n",
    "W = int(input())\n",
    "N = int(input())\n",
    "\n",
    "print(math.ceil (N / max(H, W)))\n",
    "\n",
    "# print(math.ceil(float_var))"
   ]
  },
  {
   "cell_type": "code",
   "execution_count": null,
   "metadata": {},
   "outputs": [
    {
     "name": "stdout",
     "output_type": "stream",
     "text": [
      "4\n"
     ]
    }
   ],
   "source": [
    "N = int(input())\n",
    "x_l = [list(map(int,input().split())) for i in range(N)]\n"
   ]
  },
  {
   "cell_type": "code",
   "execution_count": 130,
   "metadata": {},
   "outputs": [
    {
     "ename": "TypeError",
     "evalue": "int() argument must be a string, a bytes-like object or a number, not 'list'",
     "output_type": "error",
     "traceback": [
      "\u001b[0;31m---------------------------------------------------------------\u001b[0m",
      "\u001b[0;31mTypeError\u001b[0m                     Traceback (most recent call last)",
      "\u001b[0;32m<ipython-input-130-1fd259c8e69c>\u001b[0m in \u001b[0;36m<module>\u001b[0;34m\u001b[0m\n\u001b[0;32m----> 1\u001b[0;31m \u001b[0mlist\u001b[0m\u001b[0;34m(\u001b[0m\u001b[0mmap\u001b[0m\u001b[0;34m(\u001b[0m\u001b[0mint\u001b[0m\u001b[0;34m,\u001b[0m\u001b[0mmap\u001b[0m\u001b[0;34m(\u001b[0m\u001b[0mint\u001b[0m\u001b[0;34m,\u001b[0m \u001b[0mx_l\u001b[0m\u001b[0;34m)\u001b[0m\u001b[0;34m)\u001b[0m\u001b[0;34m)\u001b[0m\u001b[0;34m\u001b[0m\u001b[0;34m\u001b[0m\u001b[0m\n\u001b[0m",
      "\u001b[0;31mTypeError\u001b[0m: int() argument must be a string, a bytes-like object or a number, not 'list'"
     ]
    }
   ],
   "source": [
    "# list(map(int,map(int, x_l)))"
   ]
  },
  {
   "cell_type": "code",
   "execution_count": 126,
   "metadata": {},
   "outputs": [
    {
     "name": "stdout",
     "output_type": "stream",
     "text": [
      "5\n"
     ]
    }
   ],
   "source": [
    "\n",
    "x_l_max =[]\n",
    "x_l_min =[]\n",
    "\n",
    "for i in range(N):\n",
    "    x_l_max.append(int(x_l[i][0]) + int(x_l[i][1]))\n",
    "    x_l_min.append(int(x_l[i][0]) - int(x_l[i][1]))\n",
    "    \n",
    "# print(x_l_min)\n",
    "# print(x_l_max)\n",
    "# print(int(x_l[2][0]) )\n",
    "    \n",
    "obstacle_cnt_list =[]\n",
    "obstacle_cnt = -1\n",
    "\n",
    "for i in range(N):\n",
    "    for j in range(len(x_l_min)):\n",
    "        if x_l_min[j] <= int(x_l[i][0]) and int(x_l[i][0]) <= x_l_max[j]:\n",
    "            obstacle_cnt = obstacle_cnt +1\n",
    "    obstacle_cnt_list.append(obstacle_cnt)\n",
    "    obstacle_cnt = -1\n",
    "\n",
    "# print(obstacle_cnt_list)\n",
    "\n",
    "max_value = max(obstacle_cnt_list)\n",
    "\n",
    "# print( N - max_value)\n",
    "\n",
    "maxIndex = [i for i, x in enumerate(obstacle_cnt_list) if x == max(obstacle_cnt_list)]\n",
    "\n",
    "# print(maxIndex)\n",
    "# print(len(maxIndex))\n",
    "\n",
    "if max_value ==0:\n",
    "    print(N)\n",
    "else:\n",
    "    print(int(N - len(maxIndex)/2))\n"
   ]
  },
  {
   "cell_type": "code",
   "execution_count": 158,
   "metadata": {},
   "outputs": [
    {
     "name": "stdout",
     "output_type": "stream",
     "text": [
      "5\n"
     ]
    }
   ],
   "source": [
    "sorted(x_l)\n",
    "\n",
    "x_l_max =[]\n",
    "x_l_min =[]\n",
    "\n",
    "for i in range(N):\n",
    "    x_l_max.append(x_l[i][0] + x_l[i][1])\n",
    "    x_l_min.append(x_l[i][0] - x_l[i][1])\n",
    "\n",
    "obstacle_cnt_list =[]\n",
    "obstacle_cnt = -1\n",
    "\n",
    "for i in range(N):\n",
    "    for j in range(len(x_l_min)):\n",
    "        if x_l_min[j] <= int(x_l[i][0]) and int(x_l[i][0]) <= x_l_max[j]:\n",
    "            obstacle_cnt = obstacle_cnt +1\n",
    "        else:\n",
    "            break\n",
    "    obstacle_cnt_list.append(obstacle_cnt)\n",
    "    obstacle_cnt = -1\n",
    "\n",
    "# print(obstacle_cnt_list)\n",
    "\n",
    "max_value = max(obstacle_cnt_list)\n",
    "\n",
    "# print( N - max_value)\n",
    "\n",
    "maxIndex = [i for i, x in enumerate(obstacle_cnt_list) if x == max(obstacle_cnt_list)]\n",
    "\n",
    "# print(maxIndex)\n",
    "# print(len(maxIndex))\n",
    "\n",
    "if max_value ==0:\n",
    "    print(N)\n",
    "else:\n",
    "    print(int(N - len(maxIndex)/2))\n"
   ]
  },
  {
   "cell_type": "code",
   "execution_count": null,
   "metadata": {},
   "outputs": [],
   "source": [
    "\n",
    "x_l_max =[]\n",
    "x_l_min =[]\n",
    "\n",
    "for i in range(N):\n",
    "    x_l_max.append(int(x_l[i][0]) + int(x_l[i][1]))\n",
    "    x_l_min.append(int(x_l[i][0]) - int(x_l[i][1]))\n",
    "    \n",
    "# print(x_l_min)\n",
    "# print(x_l_max)\n",
    "# print(int(x_l[2][0]) )\n",
    "    \n",
    "obstacle_cnt_list =[]\n",
    "obstacle_cnt = -1\n",
    "\n",
    "for i in range(N):\n",
    "    for j in range(len(x_l_min)):\n",
    "        if x_l_min[j] <= int(x_l[i][0]) and int(x_l[i][0]) <= x_l_max[j]:\n",
    "            obstacle_cnt = obstacle_cnt +1\n",
    "    obstacle_cnt_list.append(obstacle_cnt)\n",
    "    obstacle_cnt = -1\n",
    "\n",
    "# print(obstacle_cnt_list)\n",
    "\n",
    "max_value = max(obstacle_cnt_list)\n",
    "\n",
    "# print( N - max_value)\n",
    "\n",
    "maxIndex = [i for i, x in enumerate(obstacle_cnt_list) if x == max(obstacle_cnt_list)]\n",
    "\n",
    "# print(maxIndex)\n",
    "# print(len(maxIndex))\n",
    "\n",
    "if max_value ==0:\n",
    "    print(N)\n",
    "else:\n",
    "    print(int(N - len(maxIndex)/2))\n"
   ]
  },
  {
   "cell_type": "code",
   "execution_count": 63,
   "metadata": {},
   "outputs": [
    {
     "name": "stdout",
     "output_type": "stream",
     "text": [
      "4 2 3\n"
     ]
    }
   ],
   "source": [
    "N , K, S = map(int, input().split())"
   ]
  },
  {
   "cell_type": "code",
   "execution_count": 86,
   "metadata": {},
   "outputs": [
    {
     "data": {
      "text/plain": [
       "4"
      ]
     },
     "execution_count": 86,
     "metadata": {},
     "output_type": "execute_result"
    }
   ],
   "source": [
    "import numpy as np\n",
    "\n",
    "out_list = np.ones(N)\n",
    "# print(out_list)\n",
    "\n",
    "for i in range(N):\n",
    "    for j in range(N -i):\n",
    "        np.sum( )\n",
    "\n"
   ]
  },
  {
   "cell_type": "code",
   "execution_count": 119,
   "metadata": {},
   "outputs": [
    {
     "name": "stdout",
     "output_type": "stream",
     "text": [
      "5\n",
      "4 46 6 38 43\n",
      "33 15 18 27 37\n"
     ]
    }
   ],
   "source": [
    "N = int(input())\n",
    "a_list = list(map(int, input().split()))\n",
    "b_list = list(map(int, input().split()))\n"
   ]
  },
  {
   "cell_type": "code",
   "execution_count": 124,
   "metadata": {},
   "outputs": [
    {
     "name": "stdout",
     "output_type": "stream",
     "text": [
      "[[ 4 46  6 38 43]\n",
      " [33 15 18 27 37]]\n",
      "0\n",
      "1\n",
      "0\n",
      "1\n",
      "-1\n"
     ]
    }
   ],
   "source": [
    "import numpy as np\n",
    "\n",
    "a_b_list = np.array(a_list + b_list )\n",
    "a_b_list = a_b_list.reshape(2,N)\n",
    "\n",
    "print(a_b_list)\n",
    "cnt = 0\n",
    "o_u =0\n",
    "\n",
    "# for i in range(N):\n",
    "#     if a_b_list[o_u][i] <=  a_b_list[0][i +1]:\n",
    "#         o_u =0\n",
    "#     elif a_b_list[o_u][i] <=  a_b_list[1][i +1]:\n",
    "#         cnt = cnt +1\n",
    "#         o_u =1\n",
    "#     else:\n",
    "#         print(i)\n",
    "#         cnt = -1\n",
    "#         break\n",
    "        \n",
    "# print(cnt)\n",
    "\n",
    "# for i in range(N):\n",
    "#     if a_b_list[o_u][i] <=  a_b_list[0][i +1]:\n",
    "#         o_u =0\n",
    "#     else:\n",
    "#         a_b_list[]\n",
    "i=0\n",
    "f_inv =0\n",
    "\n",
    "while i < N-1:\n",
    "    print(i)\n",
    "    if i ==0:\n",
    "        if a_b_list[0][i] <=  a_b_list[0][i +1]:\n",
    "            i = i+1\n",
    "            continue\n",
    "        else:\n",
    "            tmp0 =a_b_list[0][i]\n",
    "            tmp1 = a_b_list[0][i +1]\n",
    "            a_b_list[0][i   ] = a_b_list[1][i +1]\n",
    "            a_b_list[0][i +1] = a_b_list[1][i   ]\n",
    "            a_b_list[1][i +1]= tmp0\n",
    "            a_b_list[1][i] = tmp1\n",
    "            cnt = cnt +1\n",
    "            if f_inv ==1:\n",
    "                cnt = -1\n",
    "                break\n",
    "            f_inv =1\n",
    "    if a_b_list[0][i] <=  a_b_list[0][i +1]:\n",
    "        i = i+1\n",
    "        f_inv =0\n",
    "    else:\n",
    "        tmp0 =a_b_list[0][i-1]\n",
    "        tmp1 = a_b_list[0][i  ]    \n",
    "        a_b_list[0][i-1] = a_b_list[1][i  ]\n",
    "        a_b_list[0][i  ] = a_b_list[1][i-1]\n",
    "        a_b_list[1][i  ] = tmp0\n",
    "        a_b_list[1][i-1] = tmp1\n",
    "        i = i -1\n",
    "        cnt = cnt +1\n",
    "        if f_inv ==1:\n",
    "            cnt = -1\n",
    "            break\n",
    "        f_inv =1\n",
    "\n",
    "print(cnt)"
   ]
  }
 ],
 "metadata": {
  "kernelspec": {
   "display_name": "Python 3",
   "language": "python",
   "name": "python3"
  },
  "language_info": {
   "codemirror_mode": {
    "name": "ipython",
    "version": 3
   },
   "file_extension": ".py",
   "mimetype": "text/x-python",
   "name": "python",
   "nbconvert_exporter": "python",
   "pygments_lexer": "ipython3",
   "version": "3.7.3"
  }
 },
 "nbformat": 4,
 "nbformat_minor": 2
}

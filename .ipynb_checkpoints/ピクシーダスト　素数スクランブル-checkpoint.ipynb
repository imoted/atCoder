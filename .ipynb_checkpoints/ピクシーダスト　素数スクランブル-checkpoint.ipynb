{
 "cells": [
  {
   "cell_type": "code",
   "execution_count": 2,
   "metadata": {
    "ExecuteTime": {
     "end_time": "2020-01-22T15:37:49.625664Z",
     "start_time": "2020-01-22T15:37:49.535454Z"
    }
   },
   "outputs": [],
   "source": [
    "import numpy as np\n"
   ]
  },
  {
   "cell_type": "code",
   "execution_count": 3,
   "metadata": {
    "ExecuteTime": {
     "end_time": "2020-01-22T15:38:11.651771Z",
     "start_time": "2020-01-22T15:37:50.354926Z"
    }
   },
   "outputs": [
    {
     "name": "stdout",
     "output_type": "stream",
     "text": [
      "4 3\n",
      "43.\n",
      ".23\n",
      ".5.\n",
      "...\n",
      "[['4' '3' '.']\n",
      " ['.' '2' '3']\n",
      " ['.' '5' '.']\n",
      " ['.' '.' '.']]\n"
     ]
    }
   ],
   "source": [
    "max_n,max_m = map(int, input().split())\n",
    "string_list_arr = [[l for l in input().strip()] for i in range(max_n)]  \n",
    "# np_string_list = np.array(string_list_arr)\n",
    "\n",
    "print(np_string_list)\n"
   ]
  },
  {
   "cell_type": "code",
   "execution_count": 4,
   "metadata": {
    "ExecuteTime": {
     "end_time": "2020-01-22T15:38:14.854473Z",
     "start_time": "2020-01-22T15:38:14.850598Z"
    }
   },
   "outputs": [
    {
     "name": "stdout",
     "output_type": "stream",
     "text": [
      "<class 'numpy.ndarray'>\n",
      "<class 'numpy.str_'>\n",
      "['4' '3' '.']\n"
     ]
    }
   ],
   "source": [
    "print(type(np_string_list))\n",
    "print(type(np_string_list[0][0]))\n",
    "print(np_string_list[0])"
   ]
  },
  {
   "cell_type": "code",
   "execution_count": 121,
   "metadata": {
    "ExecuteTime": {
     "end_time": "2020-01-22T16:40:04.326960Z",
     "start_time": "2020-01-22T16:40:04.322517Z"
    }
   },
   "outputs": [
    {
     "name": "stdout",
     "output_type": "stream",
     "text": [
      "[['4' '3' '.']\n",
      " ['.' '2' '3']\n",
      " ['.' '5' '.']\n",
      " ['.' '.' '.']]\n",
      "4 3\n"
     ]
    }
   ],
   "source": [
    "print(np_string_list)\n",
    "print(max_n,max_m)"
   ]
  },
  {
   "cell_type": "code",
   "execution_count": 6,
   "metadata": {
    "ExecuteTime": {
     "end_time": "2020-01-22T15:38:15.928660Z",
     "start_time": "2020-01-22T15:38:15.925337Z"
    }
   },
   "outputs": [],
   "source": [
    "# def make_series_num(n,m):\n",
    "#     np_string_list[n +1][m]\n",
    "    "
   ]
  },
  {
   "cell_type": "code",
   "execution_count": 155,
   "metadata": {
    "ExecuteTime": {
     "end_time": "2020-01-22T16:48:35.428916Z",
     "start_time": "2020-01-22T16:48:35.419314Z"
    }
   },
   "outputs": [
    {
     "name": "stdout",
     "output_type": "stream",
     "text": [
      "['s5', 's3', 's3', 's.']\n",
      "['s2', 's.', 's4']\n",
      "['s.', 's.', 's2']\n",
      "['s.', 's3']\n",
      "['s.', 's2', 's.', 's.']\n"
     ]
    }
   ],
   "source": [
    "max_fig = max_n * max_m\n",
    "\n",
    "for i in range(1,9):\n",
    "    arr = np.where(np_string_list == str(i))\n",
    "    if arr[0].size >0:    \n",
    "        for i in range(arr[0].size):\n",
    "            if arr[0][0].size >0:\n",
    "                row = arr[0][i]\n",
    "                col = arr[1][i]\n",
    "#                 np_string_list[row][col]\n",
    "#                 print(row,col)\n",
    "                ret = search(row,col,\"s\")\n",
    "                print(ret)\n",
    "\n",
    "#                 arr = np.asarray([list(map(ord, str1)), list(map(ord, str2))])\n"
   ]
  },
  {
   "cell_type": "code",
   "execution_count": 157,
   "metadata": {
    "ExecuteTime": {
     "end_time": "2020-01-22T16:49:30.603231Z",
     "start_time": "2020-01-22T16:49:30.593609Z"
    }
   },
   "outputs": [],
   "source": [
    "def search(row,col,fig):\n",
    "    d =[]\n",
    "#     print(np_string_list[row][col])\n",
    "#     d.append(np_string_list[row][col])\n",
    "    if row +1 <= max_n -1:\n",
    "        print(np_string_list[row +1][col])\n",
    "        if np_string_list[row +1][col] is not \".\":\n",
    "            d_1 = np_string_list[row +1][col]\n",
    "            arr_1 = fig + d_1\n",
    "            d.append(arr_1)\n",
    "    if row -1 >= 0:\n",
    "        if np_string_list[row -1][col] is not \".\":\n",
    "            d_2 = np_string_list[row -1][col]\n",
    "            arr_2 = fig + d_2\n",
    "            d.append(arr_2)\n",
    "    if (col +1) <= max_m -1:\n",
    "        if np_string_list[row ][col +1] is not \".\":\n",
    "            d_3 = np_string_list[row ][col +1]\n",
    "            arr_3 = fig + d_3\n",
    "            d.append(arr_3)\n",
    "    if col -1 >= 0:\n",
    "        if np_string_list[row ][col -1] is not \".\":\n",
    "            d_4 = np_string_list[row ][col -1]\n",
    "            arr_4 = fig + d_4        \n",
    "            d.append(arr_4)\n",
    "\n",
    "    return d\n",
    "#     for i in range(3):\n",
    "#     d.append(arr_1)\n",
    "    "
   ]
  },
  {
   "cell_type": "code",
   "execution_count": null,
   "metadata": {},
   "outputs": [],
   "source": []
  }
 ],
 "metadata": {
  "kernelspec": {
   "display_name": "Python 3",
   "language": "python",
   "name": "python3"
  },
  "language_info": {
   "codemirror_mode": {
    "name": "ipython",
    "version": 3
   },
   "file_extension": ".py",
   "mimetype": "text/x-python",
   "name": "python",
   "nbconvert_exporter": "python",
   "pygments_lexer": "ipython3",
   "version": "3.7.3"
  },
  "varInspector": {
   "cols": {
    "lenName": 16,
    "lenType": 16,
    "lenVar": 40
   },
   "kernels_config": {
    "python": {
     "delete_cmd_postfix": "",
     "delete_cmd_prefix": "del ",
     "library": "var_list.py",
     "varRefreshCmd": "print(var_dic_list())"
    },
    "r": {
     "delete_cmd_postfix": ") ",
     "delete_cmd_prefix": "rm(",
     "library": "var_list.r",
     "varRefreshCmd": "cat(var_dic_list()) "
    }
   },
   "types_to_exclude": [
    "module",
    "function",
    "builtin_function_or_method",
    "instance",
    "_Feature"
   ],
   "window_display": false
  }
 },
 "nbformat": 4,
 "nbformat_minor": 2
}
